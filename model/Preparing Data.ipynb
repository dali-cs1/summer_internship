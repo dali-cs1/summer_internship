{
 "cells": [
  {
   "cell_type": "code",
   "metadata": {},
   "source": [
    "import rasterio\n",
    "import numpy as np\n",
    "import os\n",
    "from model.prepareSentinelData import down_up_sentinel\n",
    "from torch import tensor , save , count_nonzero"
   ],
   "outputs": [],
   "execution_count": null
  },
  {
   "cell_type": "code",
   "metadata": {},
   "source": [
    "dir=\"C:/Users/moham/Downloads/dataset/dataset/\"\n",
    "savedir=\"C:/Users/moham/saveddata/\"\n",
    "for j in os.listdir(dir):\n",
    "    for k in os.listdir(dir+'/'+j):\n",
    "        if k.count(\".tif\"):\n",
    "            dataset=rasterio.open(dir+'/'+j+'/'+k,'r')\n",
    "            img=dataset.read()\n",
    "            save=tensor(np.zeros((10,1820,1470)))\n",
    "            try:\n",
    "                img=down_up_sentinel(img)\n",
    "                print('no error')\n",
    "                for i in range(10):\n",
    "                    im = (img[i] // 256).astype(np.uint8)\n",
    "                    save[i]=tensor(im)\n",
    "\n",
    "            except:\n",
    "                print('error occured')\n",
    "                continue\n",
    "    save(save , savedir + j + '.pt' ) if count_nonzero(save) else print('no tensor')"
   ],
   "outputs": [],
   "execution_count": null
  },
  {
   "cell_type": "markdown",
   "metadata": {},
   "source": []
  }
 ],
 "metadata": {
  "kernelspec": {
   "display_name": "Python 3",
   "language": "python",
   "name": "python3"
  },
  "language_info": {
   "codemirror_mode": {
    "name": "ipython",
    "version": 3
   },
   "file_extension": ".py",
   "mimetype": "text/x-python",
   "name": "python",
   "nbconvert_exporter": "python",
   "pygments_lexer": "ipython3",
   "version": "3.11.7"
  }
 },
 "nbformat": 4,
 "nbformat_minor": 2
}
