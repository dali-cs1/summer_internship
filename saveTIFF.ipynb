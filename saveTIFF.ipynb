{
 "cells": [
  {
   "metadata": {},
   "cell_type": "code",
   "outputs": [],
   "execution_count": null,
   "source": [
    "import sys\n",
    "def extract_size_from_config(content):\n",
    "    \n",
    "    size_match = re.search(r'Size=(\\d+)\\s+(\\d+)', content)\n",
    "    if size_match:\n",
    "        columns = int(size_match.group(1))\n",
    "        rows = int(size_match.group(2))\n",
    "        print(f\"Extracted Size: Columns={columns}, Rows={rows}\")\n",
    "        return columns, rows\n",
    "    else:\n",
    "        raise ValueError(\"Size not found in the configuration file\")"
   ]
  },
  {
   "cell_type": "code",
   "metadata": {
    "ExecuteTime": {
     "end_time": "2024-07-22T12:13:24.457482Z",
     "start_time": "2024-07-22T12:13:24.174717Z"
    }
   },
   "source": [
    "import matplotlib.pyplot as plt\n",
    "import numpy as np\n",
    "import os\n",
    "from PIL import Image\n",
    "import json\n",
    "import shutil\n",
    "import rasterio\n",
    "import re\n",
    "np.seterr(divide='ignore', invalid='ignore')\n",
    "\n",
    "index_angle = [1, 8, 9, 10, 11, 12, 13, 25, 26, 27, 28, 29]  #\n",
    "\n",
    "pathsim = \"C:/DART/user_data/simulations/Simulation_monastir5_2parc/sequence\"  # l'emplacement des sequences\n",
    "pathsavesim = f\"C:/Users/moham/OneDrive/Bureau/summer_internship/data/grp2/{sys.argv[1]}\"\n",
    "lst = os.listdir(pathsim)\n",
    "\n",
    "nbreseq = len(lst)\n",
    "\n",
    "props_dict = dict()\n",
    "\n",
    "for dir in lst:\n",
    "    savedirectory = pathsavesim + dir\n",
    "    if os.path.exists(savedirectory):\n",
    "        shutil.rmtree(savedirectory)\n",
    "    os.makedirs(savedirectory)\n",
    "\n",
    "    g = open(pathsim + '/' + dir + '/output/dart.sequenceur.properties', 'r')\n",
    "    contenu = g.read()\n",
    "    caractere = \"\\n\"\n",
    "    x2 = contenu.split(caractere)\n",
    "    \n",
    "    for k in range(1, len(x2) - 1, 10):\n",
    "        for i in range(0,10,2):\n",
    "            prop = (x2[k+i].split(\":\")[1]).split(\".\")[-1]\n",
    "            prop_value = float(x2[k +i + 1].split(\":\")[1])\n",
    "            props_dict[prop + str((k // 10))] = prop_value\n",
    "\n",
    "    with open(savedirectory + \"/props.json\", \"w\") as outfile:\n",
    "        json.dump(props_dict, outfile)\n",
    "    \n",
    "    bands = [\"BAND0\",\"BAND1\",\"BAND2\",\"BAND3\",\"BAND4\",\"BAND5\",\"BAND6\",\"BAND7\",\"BAND8\",\"BAND9\"]\n",
    "    bands_arr = []\n",
    "    \n",
    "    for band in bands:\n",
    "        band_folder = pathsim + '/' + dir + '/output/' + band + '/BRF/ITERX/IMAGES_DART'\n",
    "        ima_prefixed = [filename for filename in os.listdir(band_folder) if filename.startswith(\"ima\")]\n",
    "        header_name = [filename for filename in ima_prefixed if filename.endswith(\"mpr\")][0]\n",
    "\n",
    "        with open(os.path.join(band_folder, header_name), \"rb\") as header_file:\n",
    "            header_content = header_file.read().decode()  # Read and decode the content\n",
    "            rows,columns = extract_size_from_config(header_content)\n",
    "        \n",
    "        header_file = open(os.path.join(band_folder, header_name), \"rb\")\n",
    "        header_data = header_file.read()\n",
    "        \n",
    "        img_name = [filename for filename in ima_prefixed if filename.endswith(\"mp#\")][0]\n",
    "        img_data = np.fromfile(os.path.join(band_folder, img_name), dtype=np.double)\n",
    "        print(band,' ',min(img_data),' ',max(img_data))\n",
    "        img_data = np.reshape(img_data, (rows, columns))\n",
    "        #plt.figure()\n",
    "        #plt.imshow(img_data, cmap='gray')\n",
    "        #plt.title(band)\n",
    "        #plt.show()\n",
    "        \n",
    "        img_data_16bit = (10000 * img_data).astype(np.uint16)\n",
    "        bands_arr.append(img_data_16bit)\n",
    "    \n",
    "    img_data_16bit_all_bands = np.array(bands_arr)\n",
    "    imagename = savedirectory + \"/\" + dir + \".tif\"\n",
    "    \n",
    "    with rasterio.open(imagename, 'w', driver='GTiff', height=img_data_16bit.shape[0], width=img_data_16bit.shape[1],\n",
    "                       count=len(bands_arr), dtype=str(img_data_16bit.dtype)) as dst:\n",
    "        for i in range(len(bands_arr)):\n",
    "            dst.write(bands_arr[i], i + 1)\n",
    "\n",
    "    \n",
    "    src = rasterio.open(imagename)\n",
    "    array=src.read()\n",
    "    print(dir)\n",
    "    '''\n",
    "    for band in array:\n",
    "        plt.figure()\n",
    "        plt.imshow(band, cmap='gray')\n",
    "        #plt.title(band)\n",
    "        plt.show()\n",
    "    '''\n",
    "    print(np.max(array - img_data_16bit_all_bands))\n"
   ],
   "outputs": [
    {
     "name": "stderr",
     "output_type": "stream",
     "text": [
      "\n",
      "KeyboardInterrupt\n",
      "\n"
     ]
    }
   ],
   "execution_count": 2
  },
  {
   "cell_type": "code",
   "metadata": {},
   "source": [
    "g.close()\n",
    "header_file.close()\n",
    "src.close()\n",
    "sys.exit()"
   ],
   "outputs": [],
   "execution_count": null
  }
 ],
 "metadata": {
  "kernelspec": {
   "display_name": "base",
   "language": "python",
   "name": "python3"
  },
  "language_info": {
   "codemirror_mode": {
    "name": "ipython",
    "version": 3
   },
   "file_extension": ".py",
   "mimetype": "text/x-python",
   "name": "python",
   "nbconvert_exporter": "python",
   "pygments_lexer": "ipython3",
   "version": "3.11.7"
  }
 },
 "nbformat": 4,
 "nbformat_minor": 2
}
