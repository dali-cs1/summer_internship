{
 "cells": [
  {
   "metadata": {
    "ExecuteTime": {
     "end_time": "2024-07-31T11:34:21.619584Z",
     "start_time": "2024-07-31T11:34:21.616459Z"
    }
   },
   "cell_type": "code",
   "source": [
    "import sys\n",
    "def extract_size_from_config(content):\n",
    "    \n",
    "    size_match = re.search(r'Size=(\\d+)\\s+(\\d+)', content)\n",
    "    if size_match:\n",
    "        columns = int(size_match.group(1))\n",
    "        rows = int(size_match.group(2))\n",
    "        print(f\"Extracted Size: Columns={columns}, Rows={rows}\")\n",
    "        return columns, rows\n",
    "    else:\n",
    "        raise ValueError(\"Size not found in the configuration file\")"
   ],
   "outputs": [],
   "execution_count": 2
  },
  {
   "cell_type": "code",
   "metadata": {
    "ExecuteTime": {
     "end_time": "2024-07-31T11:34:21.698735Z",
     "start_time": "2024-07-31T11:34:21.620584Z"
    }
   },
   "source": [
    "import matplotlib.pyplot as plt\n",
    "import numpy as np\n",
    "import os\n",
    "from PIL import Image\n",
    "import json\n",
    "import shutil\n",
    "import rasterio\n",
    "import re\n",
    "np.seterr(divide='ignore', invalid='ignore')\n",
    "\n",
    "index_angle = [1, 8, 9, 10, 11, 12, 13, 25, 26, 27, 28, 29]  #\n",
    "\n",
    "pathsim = \"C:/DART/user_data/simulations/Simulation_monastir5_2parc/sequence\"  # l'emplacement des sequences\n",
    "pathsavesim = f\"C:/Users/moham/OneDrive/Bureau/summer_internship/data/grp2/{sys.argv[1]}\"\n",
    "lst = os.listdir(pathsim)\n",
    "\n",
    "nbreseq = len(lst)\n",
    "\n",
    "props_dict = dict()\n",
    "\n",
    "for dir in lst:\n",
    "    savedirectory = pathsavesim + dir\n",
    "    if os.path.exists(savedirectory):\n",
    "        shutil.rmtree(savedirectory)\n",
    "    os.makedirs(savedirectory)\n",
    "\n",
    "    g = open(pathsim + '/' + dir + '/output/dart.sequenceur.properties', 'r')\n",
    "    contenu = g.read()\n",
    "    caractere = \"\\n\"\n",
    "    x2 = contenu.split(caractere)\n",
    "    \n",
    "    for k in range(1, len(x2) - 1, 10):\n",
    "        for i in range(0,10,2):\n",
    "            prop = (x2[k+i].split(\":\")[1]).split(\".\")[-1]\n",
    "            prop_value = float(x2[k +i + 1].split(\":\")[1])\n",
    "            props_dict[prop + str((k // 10))] = prop_value\n",
    "\n",
    "    with open(savedirectory + \"/props.json\", \"w\") as outfile:\n",
    "        json.dump(props_dict, outfile)\n",
    "    \n",
    "    bands = [\"BAND0\",\"BAND1\",\"BAND2\",\"BAND3\",\"BAND4\",\"BAND5\",\"BAND6\",\"BAND7\",\"BAND8\",\"BAND9\"]\n",
    "    bands_arr = []\n",
    "    \n",
    "    for band in bands:\n",
    "        band_folder = pathsim + '/' + dir + '/output/' + band + '/BRF/ITERX/IMAGES_DART'\n",
    "        ima_prefixed = [filename for filename in os.listdir(band_folder) if filename.startswith(\"ima\")]\n",
    "        header_name = [filename for filename in ima_prefixed if filename.endswith(\"mpr\")][0]\n",
    "\n",
    "        with open(os.path.join(band_folder, header_name), \"rb\") as header_file:\n",
    "            header_content = header_file.read().decode()  # Read and decode the content\n",
    "            rows,columns = extract_size_from_config(header_content)\n",
    "        \n",
    "        header_file = open(os.path.join(band_folder, header_name), \"rb\")\n",
    "        header_data = header_file.read()\n",
    "        \n",
    "        img_name = [filename for filename in ima_prefixed if filename.endswith(\"mp#\")][0]\n",
    "        img_data = np.fromfile(os.path.join(band_folder, img_name), dtype=np.double)\n",
    "        print(band,' ',min(img_data),' ',max(img_data))\n",
    "        img_data = np.reshape(img_data, (rows, columns))\n",
    "        #plt.figure()\n",
    "        #plt.imshow(img_data, cmap='gray')\n",
    "        #plt.title(band)\n",
    "        #plt.show()\n",
    "        \n",
    "        img_data_16bit = (10000 * img_data).astype(np.uint16)\n",
    "        bands_arr.append(img_data_16bit)\n",
    "    \n",
    "    img_data_16bit_all_bands = np.array(bands_arr)\n",
    "    imagename = savedirectory + \"/\" + dir + \".tif\"\n",
    "    \n",
    "    with rasterio.open(imagename, 'w', driver='GTiff', height=img_data_16bit.shape[0], width=img_data_16bit.shape[1],\n",
    "                       count=len(bands_arr), dtype=str(img_data_16bit.dtype)) as dst:\n",
    "        for i in range(len(bands_arr)):\n",
    "            dst.write(bands_arr[i], i + 1)\n",
    "\n",
    "    \n",
    "    src = rasterio.open(imagename)\n",
    "    array=src.read()\n",
    "    print(dir)\n",
    "    '''\n",
    "    for band in array:\n",
    "        plt.figure()\n",
    "        plt.imshow(band, cmap='gray')\n",
    "        #plt.title(band)\n",
    "        plt.show()\n",
    "    '''\n",
    "    print(np.max(array - img_data_16bit_all_bands))\n"
   ],
   "outputs": [
    {
     "name": "stdout",
     "output_type": "stream",
     "text": [
      "Extracted Size: Columns=48, Rows=82\n",
      "BAND0   0.010639687740490145   0.07391164657968212\n",
      "Extracted Size: Columns=48, Rows=82\n",
      "BAND1   0.019062718762344423   0.14918995201681362\n",
      "Extracted Size: Columns=48, Rows=82\n",
      "BAND2   0.009748392781590466   0.23839512924417866\n",
      "Extracted Size: Columns=48, Rows=82\n",
      "BAND3   0.026870194370213523   0.2665080960467535\n",
      "Extracted Size: Columns=48, Rows=82\n",
      "BAND4   0.10770102701883805   0.3222479333786907\n",
      "Extracted Size: Columns=48, Rows=82\n",
      "BAND5   0.14502918543811907   0.405924956979347\n",
      "Extracted Size: Columns=48, Rows=82\n",
      "BAND6   0.15236245603581677   0.4171084913054856\n",
      "Extracted Size: Columns=48, Rows=82\n",
      "BAND7   0.15331527573074863   0.4181073308088114\n",
      "Extracted Size: Columns=48, Rows=82\n",
      "BAND8   0.07985232297205959   0.5078386139784387\n",
      "Extracted Size: Columns=48, Rows=82\n",
      "BAND9   0.023339570809134427   0.4824273269529628\n",
      "allproperty_0\n",
      "0\n"
     ]
    },
    {
     "name": "stderr",
     "output_type": "stream",
     "text": [
      "C:\\Users\\moham\\AppData\\Local\\Programs\\Python\\Python311\\Lib\\site-packages\\rasterio\\__init__.py:327: NotGeoreferencedWarning: Dataset has no geotransform, gcps, or rpcs. The identity matrix will be returned.\n",
      "  dataset = writer(\n",
      "C:\\Users\\moham\\AppData\\Local\\Programs\\Python\\Python311\\Lib\\site-packages\\rasterio\\__init__.py:317: NotGeoreferencedWarning: Dataset has no geotransform, gcps, or rpcs. The identity matrix will be returned.\n",
      "  dataset = DatasetReader(path, driver=driver, sharing=sharing, **kwargs)\n"
     ]
    }
   ],
   "execution_count": 3
  },
  {
   "cell_type": "code",
   "metadata": {
    "ExecuteTime": {
     "end_time": "2024-07-31T11:34:21.703311Z",
     "start_time": "2024-07-31T11:34:21.699736Z"
    }
   },
   "source": [
    "g.close()\n",
    "header_file.close()\n",
    "src.close()\n",
    "sys.exit()"
   ],
   "outputs": [
    {
     "ename": "SystemExit",
     "evalue": "",
     "output_type": "error",
     "traceback": [
      "An exception has occurred, use %tb to see the full traceback.\n",
      "\u001B[1;31mSystemExit\u001B[0m\n"
     ]
    },
    {
     "name": "stderr",
     "output_type": "stream",
     "text": [
      "C:\\Users\\moham\\AppData\\Local\\Programs\\Python\\Python311\\Lib\\site-packages\\IPython\\core\\interactiveshell.py:3585: UserWarning: To exit: use 'exit', 'quit', or Ctrl-D.\n",
      "  warn(\"To exit: use 'exit', 'quit', or Ctrl-D.\", stacklevel=1)\n"
     ]
    }
   ],
   "execution_count": 4
  }
 ],
 "metadata": {
  "kernelspec": {
   "display_name": "base",
   "language": "python",
   "name": "python3"
  },
  "language_info": {
   "codemirror_mode": {
    "name": "ipython",
    "version": 3
   },
   "file_extension": ".py",
   "mimetype": "text/x-python",
   "name": "python",
   "nbconvert_exporter": "python",
   "pygments_lexer": "ipython3",
   "version": "3.11.7"
  }
 },
 "nbformat": 4,
 "nbformat_minor": 2
}
